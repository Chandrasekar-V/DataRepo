{
 "cells": [
  {
   "cell_type": "markdown",
   "metadata": {},
   "source": [
    "### Get DB Connection string and connect to Oracle DB"
   ]
  },
  {
   "cell_type": "code",
   "execution_count": 3,
   "metadata": {},
   "outputs": [
    {
     "name": "stdout",
     "output_type": "stream",
     "text": [
      "importing Jupyter notebook from Connections.ipynb\n"
     ]
    }
   ],
   "source": [
    "import import_ipynb\n",
    "import Connections as conn\n",
    "import cx_Oracle\n",
    "#import requests\n",
    "from selenium import webdriver\n",
    "from bs4 import BeautifulSoup\n",
    "import pandas as pd\n",
    "import numpy as np\n",
    "import json\n",
    "#import urllib.request as urllib2\n",
    "import time\n",
    "#from selenium.webdriver.support.select import Select\n",
    "#import re\n",
    "#import os\n",
    "#from io import BytesIO\n",
    "#from csv import writer\n",
    "import datetime"
   ]
  },
  {
   "cell_type": "code",
   "execution_count": 4,
   "metadata": {},
   "outputs": [
    {
     "name": "stdout",
     "output_type": "stream",
     "text": [
      "('CRIC_BATCH_USER',)\n"
     ]
    }
   ],
   "source": [
    "connstr = conn.conn_string()\n",
    "connection = cx_Oracle.connect(connstr)\n",
    "cursor = connection.cursor()\n",
    "cursor.execute(\"select username from user_users\")\n",
    "for row in cursor.fetchall():\n",
    "    print(row)\n",
    "cursor.close()"
   ]
  },
  {
   "cell_type": "markdown",
   "metadata": {},
   "source": [
    "### Get matchid inputs manually"
   ]
  },
  {
   "cell_type": "code",
   "execution_count": 5,
   "metadata": {},
   "outputs": [
    {
     "name": "stdout",
     "output_type": "stream",
     "text": [
      "Enter the Cricinfo matchids for the required matches. To stop, please press Enter\n",
      "1254058\n",
      "1254059\n",
      "1216493\n",
      "1195618\n",
      "1195611\n",
      "1243389\n",
      "1188428\n",
      "1249239\n",
      "\n"
     ]
    },
    {
     "data": {
      "text/plain": [
       "['1254058',\n",
       " '1254059',\n",
       " '1216493',\n",
       " '1195618',\n",
       " '1195611',\n",
       " '1243389',\n",
       " '1188428',\n",
       " '1249239']"
      ]
     },
     "execution_count": 5,
     "metadata": {},
     "output_type": "execute_result"
    }
   ],
   "source": [
    "matchid_list=[]\n",
    "print('Enter the Cricinfo matchids for the required matches. To stop, please press Enter')\n",
    "while True:\n",
    "    text=input()\n",
    "    if text:\n",
    "        matchid_list.append(text)\n",
    "        continue\n",
    "    else:    \n",
    "        break\n",
    "matchid_list        "
   ]
  },
  {
   "cell_type": "markdown",
   "metadata": {},
   "source": [
    "### Load matches data into Pandas DataFrame"
   ]
  },
  {
   "cell_type": "code",
   "execution_count": 6,
   "metadata": {},
   "outputs": [
    {
     "name": "stdout",
     "output_type": "stream",
     "text": [
      "Extracting Match 1254058 data\n",
      "Extracted Match 1254058 data\n",
      "Time taken to load match data (secs): 3.6266233921051025\n",
      " \n",
      "Extracting Match 1254059 data\n",
      "Extracted Match 1254059 data\n",
      "Time taken to load match data (secs): 2.554271936416626\n",
      " \n",
      "Extracting Match 1216493 data\n",
      "Extracted Match 1216493 data\n",
      "Time taken to load match data (secs): 2.2417492866516113\n",
      " \n",
      "Extracting Match 1195618 data\n",
      "Extracted Match 1195618 data\n",
      "Time taken to load match data (secs): 2.660202980041504\n",
      " \n",
      "Extracting Match 1195611 data\n"
     ]
    },
    {
     "ename": "IndexError",
     "evalue": "list index out of range",
     "output_type": "error",
     "traceback": [
      "\u001b[1;31m---------------------------------------------------------------------------\u001b[0m",
      "\u001b[1;31mIndexError\u001b[0m                                Traceback (most recent call last)",
      "\u001b[1;32m<ipython-input-6-5e8b56e5a061>\u001b[0m in \u001b[0;36m<module>\u001b[1;34m\u001b[0m\n\u001b[0;32m     52\u001b[0m     \u001b[1;32mif\u001b[0m \u001b[0mhca_scr\u001b[0m\u001b[1;33m[\u001b[0m\u001b[1;34m'content'\u001b[0m\u001b[1;33m]\u001b[0m\u001b[1;33m[\u001b[0m\u001b[1;34m'scorecard'\u001b[0m\u001b[1;33m]\u001b[0m\u001b[1;33m[\u001b[0m\u001b[1;34m'innings'\u001b[0m\u001b[1;33m]\u001b[0m\u001b[1;33m[\u001b[0m\u001b[1;36m0\u001b[0m\u001b[1;33m]\u001b[0m\u001b[1;33m[\u001b[0m\u001b[1;34m'inningNumber'\u001b[0m\u001b[1;33m]\u001b[0m \u001b[1;33m==\u001b[0m \u001b[1;36m1\u001b[0m\u001b[1;33m:\u001b[0m\u001b[1;33m\u001b[0m\u001b[1;33m\u001b[0m\u001b[0m\n\u001b[0;32m     53\u001b[0m         \u001b[0minns1_team\u001b[0m \u001b[1;33m=\u001b[0m \u001b[0mhca_scr\u001b[0m\u001b[1;33m[\u001b[0m\u001b[1;34m'content'\u001b[0m\u001b[1;33m]\u001b[0m\u001b[1;33m[\u001b[0m\u001b[1;34m'scorecard'\u001b[0m\u001b[1;33m]\u001b[0m\u001b[1;33m[\u001b[0m\u001b[1;34m'innings'\u001b[0m\u001b[1;33m]\u001b[0m\u001b[1;33m[\u001b[0m\u001b[1;36m0\u001b[0m\u001b[1;33m]\u001b[0m\u001b[1;33m[\u001b[0m\u001b[1;34m'team'\u001b[0m\u001b[1;33m]\u001b[0m\u001b[1;33m[\u001b[0m\u001b[1;34m'longName'\u001b[0m\u001b[1;33m]\u001b[0m\u001b[1;33m\u001b[0m\u001b[1;33m\u001b[0m\u001b[0m\n\u001b[1;32m---> 54\u001b[1;33m         \u001b[0minns2_team\u001b[0m \u001b[1;33m=\u001b[0m \u001b[0mhca_scr\u001b[0m\u001b[1;33m[\u001b[0m\u001b[1;34m'content'\u001b[0m\u001b[1;33m]\u001b[0m\u001b[1;33m[\u001b[0m\u001b[1;34m'scorecard'\u001b[0m\u001b[1;33m]\u001b[0m\u001b[1;33m[\u001b[0m\u001b[1;34m'innings'\u001b[0m\u001b[1;33m]\u001b[0m\u001b[1;33m[\u001b[0m\u001b[1;36m1\u001b[0m\u001b[1;33m]\u001b[0m\u001b[1;33m[\u001b[0m\u001b[1;34m'team'\u001b[0m\u001b[1;33m]\u001b[0m\u001b[1;33m[\u001b[0m\u001b[1;34m'longName'\u001b[0m\u001b[1;33m]\u001b[0m\u001b[1;33m\u001b[0m\u001b[1;33m\u001b[0m\u001b[0m\n\u001b[0m\u001b[0;32m     55\u001b[0m         \u001b[0minns1_runs\u001b[0m \u001b[1;33m=\u001b[0m \u001b[0mhca_scr\u001b[0m\u001b[1;33m[\u001b[0m\u001b[1;34m'content'\u001b[0m\u001b[1;33m]\u001b[0m\u001b[1;33m[\u001b[0m\u001b[1;34m'scorecard'\u001b[0m\u001b[1;33m]\u001b[0m\u001b[1;33m[\u001b[0m\u001b[1;34m'innings'\u001b[0m\u001b[1;33m]\u001b[0m\u001b[1;33m[\u001b[0m\u001b[1;36m0\u001b[0m\u001b[1;33m]\u001b[0m\u001b[1;33m[\u001b[0m\u001b[1;34m'runs'\u001b[0m\u001b[1;33m]\u001b[0m\u001b[1;33m\u001b[0m\u001b[1;33m\u001b[0m\u001b[0m\n\u001b[0;32m     56\u001b[0m         \u001b[0minns2_runs\u001b[0m \u001b[1;33m=\u001b[0m \u001b[0mhca_scr\u001b[0m\u001b[1;33m[\u001b[0m\u001b[1;34m'content'\u001b[0m\u001b[1;33m]\u001b[0m\u001b[1;33m[\u001b[0m\u001b[1;34m'scorecard'\u001b[0m\u001b[1;33m]\u001b[0m\u001b[1;33m[\u001b[0m\u001b[1;34m'innings'\u001b[0m\u001b[1;33m]\u001b[0m\u001b[1;33m[\u001b[0m\u001b[1;36m1\u001b[0m\u001b[1;33m]\u001b[0m\u001b[1;33m[\u001b[0m\u001b[1;34m'runs'\u001b[0m\u001b[1;33m]\u001b[0m\u001b[1;33m\u001b[0m\u001b[1;33m\u001b[0m\u001b[0m\n",
      "\u001b[1;31mIndexError\u001b[0m: list index out of range"
     ]
    }
   ],
   "source": [
    "row_dict = {}\n",
    "for mid in matchid_list:\n",
    "    driver = webdriver.Chrome(\"D:/Downloads/chromedriver_win32/chromedriver.exe\")\n",
    "\n",
    "    url_page_ha_scr = 'https://hsapi.espncricinfo.com/v1/pages/match/scoreboard?lang=en&leagueId=8048&eventId={match}&liveTest=false&qaTest=false'.format(match=mid)\n",
    "    driver.get(url_page_ha_scr)\n",
    "    content_ha_scr = driver.page_source\n",
    "    page_ha_scr = BeautifulSoup(content_ha_scr)\n",
    "    ha_scr=json.loads(page_ha_scr.text)\n",
    "\n",
    "    url_page_hca_scr = 'https://hs-consumer-api.espncricinfo.com/v1/pages/match/scorecard?seriesId=366616&matchId={match}'.format(match=mid)\n",
    "    driver.get(url_page_hca_scr)\n",
    "    content_hca_scr = driver.page_source\n",
    "    page_hca_scr = BeautifulSoup(content_hca_scr)\n",
    "    hca_scr=json.loads(page_hca_scr.text)\n",
    "\n",
    "    print('Extracting Match {} data'.format(mid))\n",
    "    start_time = time.time()\n",
    "    \n",
    "    match_id = mid\n",
    "    series_name = hca_scr['match']['series']['longName']\n",
    "    match_format = ha_scr['header']['matchEvent']['generalClassName']\n",
    "    season = ha_scr['header']['matchEvent']['season']\n",
    "    series_match_no = hca_scr['match']['title']\n",
    "    match_date = datetime.datetime.strptime(hca_scr['match']['daysInfo'], '%d %B %Y').strftime('%d-%b-%Y')\n",
    "    match_time = hca_scr['match']['floodlit']\n",
    "    venue = hca_scr['match']['ground']['name']\n",
    "    city = hca_scr['match']['ground']['town']['name']\n",
    "    country = hca_scr['match']['ground']['country']['name']\n",
    "    \n",
    "    home_team_name = ha_scr['header']['matchEvent']['name'].split(' v ')[0]\n",
    "    away_team_name = ha_scr['header']['matchEvent']['name'].split(' v ')[1]\n",
    "    \n",
    "    if hca_scr['match']['teams'][0]['team']['longName'] ==  home_team_name: \n",
    "        home_team_abb = hca_scr['match']['teams'][0]['team']['abbreviation']\n",
    "        away_team_abb = hca_scr['match']['teams'][1]['team']['abbreviation']        \n",
    "        home_team_match_points = hca_scr['match']['teams'][0]['points']\n",
    "        away_team_match_points = hca_scr['match']['teams'][1]['points']\n",
    "    elif hca_scr['match']['teams'][0]['team']['longName'] ==  away_team_name: \n",
    "        home_team_abb = hca_scr['match']['teams'][1]['team']['abbreviation']\n",
    "        away_team_abb = hca_scr['match']['teams'][0]['team']['abbreviation']\n",
    "        home_team_match_points = hca_scr['match']['teams'][1]['points']\n",
    "        away_team_match_points = hca_scr['match']['teams'][0]['points']\n",
    "        \n",
    "    if ha_scr['header']['matchEvent']['competitors'][0]['name'] == home_team_name: \n",
    "        home_team_captain = ha_scr['header']['matchEvent']['competitors'][0]['captain']['displayName']\n",
    "        away_team_captain = ha_scr['header']['matchEvent']['competitors'][1]['captain']['displayName']\n",
    "    elif ha_scr['header']['matchEvent']['competitors'][0]['name'] == away_team_name:\n",
    "        home_team_captain = ha_scr['header']['matchEvent']['competitors'][1]['captain']['displayName']        \n",
    "        away_team_captain = ha_scr['header']['matchEvent']['competitors'][0]['captain']['displayName']\n",
    "            \n",
    "    if hca_scr['content']['scorecard']['innings'][0]['inningNumber'] == 1:\n",
    "        inns1_team = hca_scr['content']['scorecard']['innings'][0]['team']['longName']\n",
    "        inns2_team = hca_scr['content']['scorecard']['innings'][1]['team']['longName']\n",
    "        inns1_runs = hca_scr['content']['scorecard']['innings'][0]['runs']\n",
    "        inns2_runs = hca_scr['content']['scorecard']['innings'][1]['runs']\n",
    "        inns1_wkts = hca_scr['content']['scorecard']['innings'][0]['wickets']\n",
    "        inns2_wkts = hca_scr['content']['scorecard']['innings'][1]['wickets']\n",
    "        inns1_overs = hca_scr['content']['scorecard']['innings'][0]['totalOvers']\n",
    "        inns2_overs = hca_scr['content']['scorecard']['innings'][1]['totalOvers']\n",
    "        inns1_mins = hca_scr['content']['scorecard']['innings'][0]['minutes']\n",
    "        inns2_mins = hca_scr['content']['scorecard']['innings'][1]['minutes']\n",
    "        inns1_extras = hca_scr['content']['scorecard']['innings'][0]['extras']\n",
    "        inns2_extras = hca_scr['content']['scorecard']['innings'][1]['extras']\n",
    "        inns1_byes = hca_scr['content']['scorecard']['innings'][0]['byes']\n",
    "        inns2_byes = hca_scr['content']['scorecard']['innings'][1]['byes']\n",
    "        inns1_leg_byes = hca_scr['content']['scorecard']['innings'][0]['legbyes']\n",
    "        inns2_leg_byes = hca_scr['content']['scorecard']['innings'][1]['legbyes']\n",
    "        inns1_wides = hca_scr['content']['scorecard']['innings'][0]['wides']\n",
    "        inns2_wides = hca_scr['content']['scorecard']['innings'][1]['wides']\n",
    "        inns1_no_balls = hca_scr['content']['scorecard']['innings'][0]['noballs']\n",
    "        inns2_no_balls = hca_scr['content']['scorecard']['innings'][1]['noballs']\n",
    "        inns1_penalties = hca_scr['content']['scorecard']['innings'][0]['penalties']\n",
    "        inns2_penalties = hca_scr['content']['scorecard']['innings'][1]['penalties']\n",
    "        inns2_target = hca_scr['content']['scorecard']['innings'][1]['target']\n",
    "    elif hca_scr['content']['scorecard']['innings'][0]['inningNumber'] == 2: \n",
    "        inns1_team = hca_scr['content']['scorecard']['innings'][1]['team']['longName']\n",
    "        inns2_team = hca_scr['content']['scorecard']['innings'][0]['team']['longName']\n",
    "        inns1_runs = hca_scr['content']['scorecard']['innings'][1]['runs']\n",
    "        inns2_runs = hca_scr['content']['scorecard']['innings'][0]['runs']\n",
    "        inns1_wkts = hca_scr['content']['scorecard']['innings'][1]['wickets']\n",
    "        inns2_wkts = hca_scr['content']['scorecard']['innings'][0]['wickets']\n",
    "        inns1_overs = hca_scr['content']['scorecard']['innings'][1]['totalOvers']\n",
    "        inns2_overs = hca_scr['content']['scorecard']['innings'][0]['totalOvers']\n",
    "        inns1_mins = hca_scr['content']['scorecard']['innings'][1]['minutes']\n",
    "        inns2_mins = hca_scr['content']['scorecard']['innings'][0]['minutes']\n",
    "        inns1_extras = hca_scr['content']['scorecard']['innings'][1]['extras']\n",
    "        inns2_extras = hca_scr['content']['scorecard']['innings'][0]['extras']\n",
    "        inns1_byes = hca_scr['content']['scorecard']['innings'][1]['byes']\n",
    "        inns2_byes = hca_scr['content']['scorecard']['innings'][0]['byes']\n",
    "        inns1_leg_byes = hca_scr['content']['scorecard']['innings'][1]['legbyes']\n",
    "        inns2_leg_byes = hca_scr['content']['scorecard']['innings'][0]['legbyes']\n",
    "        inns1_wides = hca_scr['content']['scorecard']['innings'][1]['wides']\n",
    "        inns2_wides = hca_scr['content']['scorecard']['innings'][0]['wides']\n",
    "        inns1_no_balls = hca_scr['content']['scorecard']['innings'][1]['noballs']\n",
    "        inns2_no_balls = hca_scr['content']['scorecard']['innings'][0]['noballs']\n",
    "        inns1_penalties = hca_scr['content']['scorecard']['innings'][1]['penalties']\n",
    "        inns2_penalties = hca_scr['content']['scorecard']['innings'][0]['penalties']\n",
    "        inns2_target = hca_scr['content']['scorecard']['innings'][0]['target']\n",
    "        \n",
    "    is_super_over = ha_scr['header']['isSuperOver']\n",
    "    if str(ha_scr['header']['matchEvent']['competitors'][0]['isWinner'])=='True':  \n",
    "        winner = ha_scr['header']['matchEvent']['competitors'][0]['name']             \n",
    "    elif str(ha_scr['header']['matchEvent']['competitors'][1]['isWinner'])=='True':        \n",
    "        winner = ha_scr['header']['matchEvent']['competitors'][1]['name']          \n",
    "    else: \n",
    "        winner = 'Tie/NR'\n",
    "    if str(ha_scr['header']['isSuperOver'])=='True': \n",
    "        result_type = ha_scr['header']['matchEvent']['statusText'].split(' (')[1].split(')')[0] \n",
    "    else: \n",
    "        result_type = ha_scr['header']['matchEvent']['statusText'].split(' won by ')[1]\n",
    "    toss_winner = ha_scr['content']['about']['toss'].split(' , ')[0]\n",
    "    toss_decision = ha_scr['content']['about']['toss'].split(' , ')[1]\n",
    "    if 'bestPlayer' in ha_scr['header']:        \n",
    "        player_of_match = ha_scr['header']['bestPlayer']['name'] \n",
    "    else: \n",
    "        player_of_match = np.nan\n",
    "    if 'bestPlayer' in ha_scr['header']:        \n",
    "        player_of_match_team = ha_scr['header']['bestPlayer']['teamName'] \n",
    "    else: \n",
    "        player_of_match_team = np.nan\n",
    "    \n",
    "    umpire1_name = hca_scr['match']['umpires'][0]['player']['longName']\n",
    "    umpire1_country = hca_scr['match']['umpires'][0]['team']['longName']\n",
    "    umpire1_gender = hca_scr['match']['umpires'][0]['player']['gender']\n",
    "    umpire2_name = hca_scr['match']['umpires'][1]['player']['longName']\n",
    "    umpire2_country = hca_scr['match']['umpires'][1]['team']['longName']\n",
    "    umpire2_gender = hca_scr['match']['umpires'][1]['player']['gender']\n",
    "    tv_umpire_name = hca_scr['match']['tvUmpires'][0]['player']['longName']\n",
    "    tv_umpire_country = hca_scr['match']['tvUmpires'][0]['team']['longName']\n",
    "    tv_umpire_gender = hca_scr['match']['tvUmpires'][0]['player']['gender']\n",
    "    reserve_umpire_name = hca_scr['match']['reserveUmpires'][0]['player']['longName']\n",
    "    reserve_umpire_country = hca_scr['match']['reserveUmpires'][0]['team']['longName']\n",
    "    reserve_umpire_gender = hca_scr['match']['reserveUmpires'][0]['player']['gender']\n",
    "    match_referee_name = hca_scr['match']['matchReferees'][0]['player']['longName']\n",
    "    match_referee_country = hca_scr['match']['matchReferees'][0]['team']['longName']\n",
    "    match_referee_gender = hca_scr['match']['matchReferees'][0]['player']['gender']\n",
    "\n",
    "    col_list = [series_name,match_format,season,series_match_no,match_date,match_time,venue,city,country,home_team_name,\n",
    "                home_team_abb,home_team_captain,home_team_match_points,away_team_name,away_team_abb,away_team_captain,\n",
    "                away_team_match_points,inns1_team,inns1_runs,inns1_wkts,inns1_overs,inns1_mins,inns1_extras,inns1_byes,\n",
    "                inns1_leg_byes,inns1_wides,inns1_no_balls,inns1_penalties,inns2_team,inns2_target,inns2_runs,inns2_wkts,inns2_overs,\n",
    "                inns2_mins,inns2_extras,inns2_byes,inns2_leg_byes,inns2_wides,inns2_no_balls,inns2_penalties,is_super_over,\n",
    "                winner,result_type,toss_winner,toss_decision,player_of_match,player_of_match_team,umpire1_name,umpire1_country,\n",
    "                umpire1_gender,umpire2_name,umpire2_country,umpire2_gender,tv_umpire_name,tv_umpire_country,tv_umpire_gender,\n",
    "                reserve_umpire_name,reserve_umpire_country,reserve_umpire_gender,match_referee_name,match_referee_country,\n",
    "                match_referee_gender]\n",
    "    row_dict[mid] = col_list    \n",
    "    \n",
    "    driver.quit()\n",
    "    \n",
    "    end_time = time.time()\n",
    "    print('Extracted Match {} data'.format(mid))\n",
    "    print('Time taken to load match data (secs):',end_time - start_time)\n",
    "    print(' ')\n",
    "    \n",
    "df_start_time = time.time()    \n",
    "matches_df = pd.DataFrame.from_dict(row_dict, orient='index', columns=\n",
    "                ['series_name','match_format','season','series_match_no','match_date','match_time','venue','city',\n",
    "                 'country','home_team_name','home_team_abb','home_team_captain','home_team_match_points','away_team_name',\n",
    "                 'away_team_abb','away_team_captain','away_team_match_points','inns1_team','inns1_runs','inns1_wkts',\n",
    "                 'inns1_overs','inns1_mins','inns1_extras','inns1_byes','inns1_leg_byes','inns1_wides','inns1_no_balls',\n",
    "                 'inns1_penalties','inns2_team','inns2_target','inns2_runs','inns2_wkts','inns2_overs','inns2_mins','inns2_extras',\n",
    "                 'inns2_byes','inns2_leg_byes','inns2_wides','inns2_no_balls','inns2_penalties','is_super_over','winner',\n",
    "                 'result_type','toss_winner','toss_decision','player_of_match','player_of_match_team','umpire1_name',\n",
    "                 'umpire1_country','umpire1_gender','umpire2_name','umpire2_country','umpire2_gender','tv_umpire_name',\n",
    "                 'tv_umpire_country','tv_umpire_gender','reserve_umpire_name','reserve_umpire_country',\n",
    "                 'reserve_umpire_gender','match_referee_name','match_referee_country','match_referee_gender'])\n",
    "matches_df = matches_df.rename_axis('match_id').reset_index()\n",
    "matches_df['match_id'] = matches_df['match_id'].astype(str).astype(int)\n",
    "df_end_time = time.time()\n",
    "\n",
    "print(' ')\n",
    "print('Time taken to create matches df (secs):',df_end_time - df_start_time)\n",
    "print('Matches data Extraction over')"
   ]
  },
  {
   "cell_type": "markdown",
   "metadata": {},
   "source": [
    "### Insert Pandas DataFrame into Oracle table"
   ]
  },
  {
   "cell_type": "code",
   "execution_count": null,
   "metadata": {},
   "outputs": [],
   "source": [
    "print('Data insertion into Oracle table begins')\n",
    "cursor = connection.cursor()\n",
    "rows = [tuple(x) for x in matches_df.values]\n",
    "sql_qry = (\"INSERT INTO tgt_t20_dbo.matches (match_id,series_name,match_format,season,series_match_no,match_date,match_time,\"\n",
    "           \"venue,city,country,home_team_name,home_team_abb,home_team_captain,home_team_match_points,away_team_name,\"\n",
    "           \"away_team_abb,away_team_captain,away_team_match_points,inns1_team,inns1_runs,inns1_wkts,inns1_overs,inns1_mins,\"\n",
    "           \"inns1_extras,inns1_byes,inns1_leg_byes,inns1_wides,inns1_no_balls,inns1_penalties,inns2_team,inns2_target,inns2_runs,inns2_wkts,\"\n",
    "           \"inns2_overs,inns2_mins,inns2_extras,inns2_byes,inns2_leg_byes,inns2_wides,inns2_no_balls,inns2_penalties,\"\n",
    "           \"is_super_over,winner,result_type,toss_winner,toss_decision,player_of_match,player_of_match_team,umpire1_name,\"\n",
    "           \"umpire1_country,umpire1_gender,umpire2_name,umpire2_country,umpire2_gender,tv_umpire_name,tv_umpire_country,\"\n",
    "           \"tv_umpire_gender,reserve_umpire_name,reserve_umpire_country,reserve_umpire_gender,match_referee_name,\"\n",
    "           \"match_referee_country,match_referee_gender)\" \n",
    "           \"VALUES (:1,:2,:3,:4,:5,:6,:7,:8,:9,:10,:11,:12,:13,:14,:15,:16,:17,:18,:19,:20,:21,:22,:23,:24,:25,:26,:27,:28,\"\n",
    "           \":29,:30,:31,:32,:33,:34,:35,:36,:37,:38,:39,:40,:41,:42,:43,:44,:45,:46,:47,:48,:49,:50,:51,:52,:53,:54,:55,:56,\"\n",
    "           \":57,:58,:59,:60,:61,:62)\")\n",
    "cursor.executemany(sql_qry,rows)\n",
    "connection.commit()\n",
    "cursor.close()\n",
    "connection.close()\n",
    "print('Data insertion ends')"
   ]
  }
 ],
 "metadata": {
  "kernelspec": {
   "display_name": "Python 3",
   "language": "python",
   "name": "python3"
  },
  "language_info": {
   "codemirror_mode": {
    "name": "ipython",
    "version": 3
   },
   "file_extension": ".py",
   "mimetype": "text/x-python",
   "name": "python",
   "nbconvert_exporter": "python",
   "pygments_lexer": "ipython3",
   "version": "3.7.6"
  }
 },
 "nbformat": 4,
 "nbformat_minor": 4
}
