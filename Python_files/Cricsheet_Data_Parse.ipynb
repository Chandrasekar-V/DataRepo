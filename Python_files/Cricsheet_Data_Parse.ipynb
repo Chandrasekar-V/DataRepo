{
 "cells": [
  {
   "cell_type": "code",
   "execution_count": 5,
   "id": "b003315f",
   "metadata": {},
   "outputs": [],
   "source": [
    "import os\n",
    "import import_ipynb\n",
    "import Connections as conn\n",
    "import cx_Oracle\n",
    "from selenium import webdriver\n",
    "from bs4 import BeautifulSoup\n",
    "import pandas as pd\n",
    "import numpy as np\n",
    "import json\n",
    "import time\n",
    "import datetime\n",
    "import yaml"
   ]
  },
  {
   "cell_type": "markdown",
   "id": "4b2092a6",
   "metadata": {},
   "source": [
    "### Define functions"
   ]
  },
  {
   "cell_type": "code",
   "execution_count": 6,
   "id": "d763c602",
   "metadata": {},
   "outputs": [],
   "source": [
    "# Establish connection with Oracle Database\n",
    "def orcl_conn(): \n",
    "    connstr = conn.conn_string()\n",
    "    connection = cx_Oracle.connect(connstr)\n",
    "    return connection\n",
    "\n",
    "# Fetch matches list based on files present in directory\n",
    "def match_list_file():\n",
    "    match_list=[]\n",
    "    input_path=r'C:/Users/ninju/OneDrive/Desktop/Cricket_Analysis/Cricsheet data/Downloads/Test'\n",
    "    match_list = [f for f in os.listdir(input_path)]\n",
    "    return (input_path,match_list)\n",
    "\n",
    "# Log match ids for which execution didn't complete due to errors\n",
    "def error_log(mid,err):\n",
    "    print('Error while loading match {match} data'.format(match=mid))\n",
    "    print('Error logging begins for match {match}'.format(match=mid))\n",
    "    connection = orcl_conn()\n",
    "    cursor = connection.cursor()\n",
    "    sql_qry = \"insert into temp_tgt_dbo.error_log (match_id,error_msg) values (:1,:2)\"\n",
    "    cursor.execute(sql_qry,(mid,str(err)))\n",
    "    connection.commit()\n",
    "    cursor.close()\n",
    "    connection.close()\n",
    "    print('Error logging successful')\n",
    "    print(' ')"
   ]
  },
  {
   "cell_type": "markdown",
   "id": "290a8696",
   "metadata": {},
   "source": [
    "### Read YAML files and parse it into Pandas Dataframe"
   ]
  },
  {
   "cell_type": "code",
   "execution_count": 14,
   "id": "650c92ad",
   "metadata": {},
   "outputs": [],
   "source": [
    "input_path,match_list=match_list_file()\n",
    "match_list\n",
    "matches_row_dict = {}\n",
    "bbb_row_dict = {}\n",
    "for match in match_list:\n",
    "    try:\n",
    "        yaml_file = open(r'{path}/{match}'.format(path=input_path,match=match))\n",
    "        yaml_dict = yaml.load(yaml_file, Loader=yaml.FullLoader)\n",
    "        print('Parsing file {match}'.format(match))\n",
    "        \n",
    "        # Parsing Matches data\n",
    "        match_id=match.split('.')[0]\n",
    "        tournament=yaml_dict['info']['competition']\n",
    "        gender=yaml_dict['info']['gender']\n",
    "        match_type=yaml_dict['info']['match_type']\n",
    "        overs=yaml_dict['info']['overs']\n",
    "        match_date=datetime.datetime.strptime(yaml_dict['info']['dates'][0], '%Y-%m-%d').strftime('%d-%b-%Y')\n",
    "        team1=yaml_dict['info']['teams'][0]\n",
    "        team2=yaml_dict['info']['teams'][1]\n",
    "        venue=yaml_dict['info']['venue']\n",
    "        city=yaml_dict['info']['city']\n",
    "        \n",
    "        if 'winner' in yaml_dict['info']['outcome']:\n",
    "            winner=yaml_dict['info']['outcome']['winner']\n",
    "            margin_type=[k for k, v in yaml_dict['info']['outcome']['by'].items()]\n",
    "            margin_number=[v for k, v in yaml_dict['info']['outcome']['by'].items()]\n",
    "        else:\n",
    "            winner=yaml_dict['info']['outcome']['result']\n",
    "            if 'eliminator' in yaml_dict['info']['outcome']:\n",
    "                margin_type='eliminator'\n",
    "                margin_number=yaml_dict['info']['outcome']['eliminator']\n",
    "            else:\n",
    "                margin_type=None\n",
    "                margin_number=None\n",
    "        \n",
    "        if 'player_of_match' in yaml_dict['info']:\n",
    "            player_of_match=yaml_dict['info']['player_of_match'][0]\n",
    "        else:\n",
    "            player_of_match=None\n",
    "            \n",
    "        toss_winner=yaml_dict['info']['toss']['winner']\n",
    "        toss_decision=yaml_dict['info']['toss']['decision']\n",
    "        umpire1=yaml_dict['info']['umpires'][0]\n",
    "        umpire2=yaml_dict['info']['umpires'][1]\n",
    "        \n",
    "        matches_col_list=[tournament,gender,match_type,overs,match_date,team1,team2,venue,city,winner,margin_type,margin_number,\n",
    "                          player_of_match,toss_winner,toss_decision,umpire1,umpire2]\n",
    "        matches_row_dict[mid] = matches_col_list\n",
    "        \n",
    "        \n",
    "        #Parsing BBB data\n",
    "        \n",
    "    except Exception as err:\n",
    "        error_log(mid,err)"
   ]
  }
 ],
 "metadata": {
  "kernelspec": {
   "display_name": "Python 3",
   "language": "python",
   "name": "python3"
  },
  "language_info": {
   "codemirror_mode": {
    "name": "ipython",
    "version": 3
   },
   "file_extension": ".py",
   "mimetype": "text/x-python",
   "name": "python",
   "nbconvert_exporter": "python",
   "pygments_lexer": "ipython3",
   "version": "3.8.8"
  }
 },
 "nbformat": 4,
 "nbformat_minor": 5
}
