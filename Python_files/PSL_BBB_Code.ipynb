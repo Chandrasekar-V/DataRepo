{
 "cells": [
  {
   "cell_type": "code",
   "execution_count": 1,
   "id": "4736e775",
   "metadata": {},
   "outputs": [
    {
     "name": "stdout",
     "output_type": "stream",
     "text": [
      "importing Jupyter notebook from Connections.ipynb\n"
     ]
    }
   ],
   "source": [
    "import os\n",
    "import import_ipynb\n",
    "import Connections as conn\n",
    "import cx_Oracle\n",
    "from selenium import webdriver\n",
    "from bs4 import BeautifulSoup\n",
    "import pandas as pd\n",
    "import numpy as np\n",
    "import json\n",
    "import time\n",
    "import datetime"
   ]
  },
  {
   "cell_type": "markdown",
   "id": "f360ef67",
   "metadata": {},
   "source": [
    "### Read CSV data from Cricsheet downloads and load into Oracle table"
   ]
  },
  {
   "cell_type": "code",
   "execution_count": 18,
   "id": "4ed51065",
   "metadata": {},
   "outputs": [
    {
     "name": "stdout",
     "output_type": "stream",
     "text": [
      "Insertion into Oracle begins\n",
      "Insertion into Oracle ends successfully\n"
     ]
    }
   ],
   "source": [
    "psl_matches_df = pd.read_csv(r'C:/Users/ninju/OneDrive/Desktop/Cricket_Analysis/Cricsheet data/Downloads/psl_csv2/all_matches.csv')\n",
    "psl_matches_df = psl_matches_df.where(pd.notnull(psl_matches_df), None)\n",
    "psl_matches_df['start_date'] = pd.to_datetime(psl_matches_df.start_date)\n",
    "psl_matches_df['start_date'] = psl_matches_df['start_date'].dt.strftime('%d-%b-%Y')\n",
    "connstr = conn.conn_string()\n",
    "connection = cx_Oracle.connect(connstr)\n",
    "cursor = connection.cursor()\n",
    "rows = [tuple(x) for x in psl_matches_df.values]\n",
    "print('Insertion into Oracle begins')\n",
    "sql_qry = (\"INSERT INTO TEMP_TGT_DBO.PSL_DATA (MATCH_ID,SEASON,START_DATE,VENUE,INNINGS,BALL,BATTING_TEAM,BOWLING_TEAM,\"\n",
    "           \"STRIKER,NON_STRIKER,BOWLER,RUNS_OFF_BAT,EXTRAS,WIDES,NOBALLS,BYES,LEGBYES,PENALTY,WICKET_TYPE,PLAYER_DISMISSED,\"\n",
    "           \"OTHER_WICKET_TYPE,OTHER_PLAYER_DISMISSED)\" \n",
    "           \"VALUES (:1,:2,:3,:4,:5,:6,:7,:8,:9,:10,:11,:12,:13,:14,:15,:16,:17,:18,:19,:20,:21,:22)\")\n",
    "cursor.executemany(sql_qry,rows)\n",
    "connection.commit()\n",
    "print('Insertion into Oracle ends successfully')\n",
    "cursor.close()\n",
    "connection.close()"
   ]
  }
 ],
 "metadata": {
  "kernelspec": {
   "display_name": "Python 3",
   "language": "python",
   "name": "python3"
  },
  "language_info": {
   "codemirror_mode": {
    "name": "ipython",
    "version": 3
   },
   "file_extension": ".py",
   "mimetype": "text/x-python",
   "name": "python",
   "nbconvert_exporter": "python",
   "pygments_lexer": "ipython3",
   "version": "3.8.8"
  }
 },
 "nbformat": 4,
 "nbformat_minor": 5
}
