{
 "cells": [
  {
   "cell_type": "code",
   "execution_count": null,
   "metadata": {},
   "outputs": [],
   "source": [
    "# DB instance ID - t20-cricket-data\n",
    "# username - admin_vcs\n",
    "# password - t20_admin_batch\n",
    "# port - 1521\n",
    "# host - t20-cricket-data.ccpji1c9vx0g.ap-south-1.rds.amazonaws.com\n",
    "# DB_name - T20DATA"
   ]
  },
  {
   "cell_type": "code",
   "execution_count": 8,
   "metadata": {},
   "outputs": [
    {
     "name": "stdout",
     "output_type": "stream",
     "text": [
      "Collecting cx_Oracle\n",
      "  Downloading cx_Oracle-8.1.0-cp37-cp37m-win_amd64.whl (210 kB)\n",
      "Installing collected packages: cx-Oracle\n",
      "Successfully installed cx-Oracle-8.1.0\n"
     ]
    }
   ],
   "source": [
    "!pip install cx_Oracle"
   ]
  },
  {
   "cell_type": "code",
   "execution_count": 2,
   "metadata": {},
   "outputs": [],
   "source": [
    "import cx_Oracle"
   ]
  },
  {
   "cell_type": "markdown",
   "metadata": {},
   "source": [
    "### Reading data from table"
   ]
  },
  {
   "cell_type": "code",
   "execution_count": 3,
   "metadata": {},
   "outputs": [
    {
     "name": "stdout",
     "output_type": "stream",
     "text": [
      "(1, 'jayashree')\n",
      "(2, 'chandrasekar')\n"
     ]
    }
   ],
   "source": [
    "connstr = \"cric_batch_user/cric_b@tch_pwd@localhost:1521/cricketdatapdb\"\n",
    "connection = cx_Oracle.connect(connstr)\n",
    "cursor = connection.cursor()\n",
    "cursor.execute(\"select * from test_schema.test_table\")\n",
    "result = cursor.fetchall()\n",
    "for row in result:\n",
    "    print(row)\n",
    "cursor.close()\n",
    "connection.close()    "
   ]
  },
  {
   "cell_type": "markdown",
   "metadata": {},
   "source": [
    "### Writing data into table"
   ]
  },
  {
   "cell_type": "code",
   "execution_count": 4,
   "metadata": {},
   "outputs": [],
   "source": [
    "connection = cx_Oracle.connect(connstr)\n",
    "cursor = connection.cursor()\n",
    "cursor.execute(\"insert into test_schema.test_table select 3,'Prakash' from dual\")\n",
    "connection.commit()\n",
    "cursor.close()\n",
    "connection.close()"
   ]
  }
 ],
 "metadata": {
  "kernelspec": {
   "display_name": "Python 3",
   "language": "python",
   "name": "python3"
  },
  "language_info": {
   "codemirror_mode": {
    "name": "ipython",
    "version": 3
   },
   "file_extension": ".py",
   "mimetype": "text/x-python",
   "name": "python",
   "nbconvert_exporter": "python",
   "pygments_lexer": "ipython3",
   "version": "3.8.8"
  }
 },
 "nbformat": 4,
 "nbformat_minor": 4
}
